{
 "cells": [
  {
   "cell_type": "code",
   "execution_count": 1,
   "metadata": {},
   "outputs": [
    {
     "name": "stdout",
     "output_type": "stream",
     "text": [
      "##################################\n",
      "#                                #\n",
      "#                                #\n",
      "#                                #\n",
      "#                                #\n",
      "#                                #\n",
      "#                                #\n",
      "#                                #\n",
      "#                                #\n",
      "#                                #\n",
      "#                                #\n",
      "#                                #\n",
      "#                                #\n",
      "#               O@               #\n",
      "#                                #\n",
      "#                                #\n",
      "#                                #\n",
      "#                                #\n",
      "#                                #\n",
      "#                                #\n",
      "#                                #\n",
      "#            *                   #\n",
      "#                                #\n",
      "#                                #\n",
      "#                                #\n",
      "##################################\n"
     ]
    }
   ],
   "source": [
    "from a_game import SnakeGame, Direction, Point\n",
    "\n",
    "game = SnakeGame(32, 24)\n",
    "game.print()"
   ]
  },
  {
   "cell_type": "code",
   "execution_count": 35,
   "metadata": {},
   "outputs": [
    {
     "name": "stdout",
     "output_type": "stream",
     "text": [
      "_move, action: [9.  2.1 3.  5. ] new_dir: Direction.RIGHT\n",
      "reward: 0 game_over: False score: 2\n",
      "##################################\n",
      "#                                #\n",
      "#                                #\n",
      "#                                #\n",
      "#                                #\n",
      "#                                #\n",
      "#                                #\n",
      "#                                #\n",
      "#                                #\n",
      "#                                #\n",
      "#                                #\n",
      "#                                #\n",
      "#                                #\n",
      "#                                #\n",
      "#                                #\n",
      "#                              * #\n",
      "#                                #\n",
      "#                       OOO@     #\n",
      "#                                #\n",
      "#                                #\n",
      "#                                #\n",
      "#                                #\n",
      "#                                #\n",
      "#                                #\n",
      "#                                #\n",
      "##################################\n"
     ]
    }
   ],
   "source": [
    "import numpy as np\n",
    "action = np.array([9, 2.1, 3, 5])\n",
    "reward, game_over, score = game.play_step(action)\n",
    "print('reward:', reward, 'game_over:', game_over, 'score:', score)\n",
    "game.print()"
   ]
  },
  {
   "cell_type": "code",
   "execution_count": 1,
   "metadata": {},
   "outputs": [
    {
     "name": "stdout",
     "output_type": "stream",
     "text": [
      "pygame 2.5.2 (SDL 2.28.3, Python 3.8.18)\n",
      "Hello from the pygame community. https://www.pygame.org/contribute.html\n"
     ]
    }
   ],
   "source": [
    "import pygame\n",
    "\n",
    "# rgb colors\n",
    "WHITE = (255, 255, 255)\n",
    "RED = (200,0,0)\n",
    "BLUE1 = (0, 0, 255)\n",
    "BLUE2 = (0, 100, 255)\n",
    "BLACK = (0,0,0)\n",
    "\n",
    "TRAIN_FRAME_RATE = 200\n",
    "VISUALIZE_FRAME_RATE = 1"
   ]
  },
  {
   "cell_type": "code",
   "execution_count": 2,
   "metadata": {},
   "outputs": [
    {
     "name": "stderr",
     "output_type": "stream",
     "text": [
      "2023-10-29 18:00:58.124 python[15769:945459] TSM AdjustCapsLockLEDForKeyTransitionHandling - _ISSetPhysicalKeyboardCapsLockLED Inhibit\n"
     ]
    },
    {
     "ename": "error",
     "evalue": "display Surface quit",
     "output_type": "error",
     "traceback": [
      "\u001b[0;31m---------------------------------------------------------------------------\u001b[0m",
      "\u001b[0;31merror\u001b[0m                                     Traceback (most recent call last)",
      "\u001b[1;32m/Users/chenweichu/dev/study/snake-ai-pytorch/train.ipynb Cell 4\u001b[0m line \u001b[0;36m2\n\u001b[1;32m     <a href='vscode-notebook-cell:/Users/chenweichu/dev/study/snake-ai-pytorch/train.ipynb#W1sZmlsZQ%3D%3D?line=18'>19</a>\u001b[0m         \u001b[39mif\u001b[39;00m event\u001b[39m.\u001b[39mkey \u001b[39m==\u001b[39m pygame\u001b[39m.\u001b[39mK_ESCAPE:\n\u001b[1;32m     <a href='vscode-notebook-cell:/Users/chenweichu/dev/study/snake-ai-pytorch/train.ipynb#W1sZmlsZQ%3D%3D?line=19'>20</a>\u001b[0m             frame_rate \u001b[39m=\u001b[39m TRAIN_FRAME_RATE\n\u001b[0;32m---> <a href='vscode-notebook-cell:/Users/chenweichu/dev/study/snake-ai-pytorch/train.ipynb#W1sZmlsZQ%3D%3D?line=21'>22</a>\u001b[0m display\u001b[39m.\u001b[39;49mfill(BLACK)\n\u001b[1;32m     <a href='vscode-notebook-cell:/Users/chenweichu/dev/study/snake-ai-pytorch/train.ipynb#W1sZmlsZQ%3D%3D?line=22'>23</a>\u001b[0m text \u001b[39m=\u001b[39m font\u001b[39m.\u001b[39mrender(\u001b[39m\"\u001b[39m\u001b[39mScore: \u001b[39m\u001b[39m\"\u001b[39m \u001b[39m+\u001b[39m \u001b[39mstr\u001b[39m(score), \u001b[39mTrue\u001b[39;00m, WHITE)\n\u001b[1;32m     <a href='vscode-notebook-cell:/Users/chenweichu/dev/study/snake-ai-pytorch/train.ipynb#W1sZmlsZQ%3D%3D?line=23'>24</a>\u001b[0m display\u001b[39m.\u001b[39mblit(text, [\u001b[39m0\u001b[39m, \u001b[39m0\u001b[39m])\n",
      "\u001b[0;31merror\u001b[0m: display Surface quit"
     ]
    },
    {
     "ename": "",
     "evalue": "",
     "output_type": "error",
     "traceback": [
      "\u001b[1;31mThe Kernel crashed while executing code in the the current cell or a previous cell. Please review the code in the cell(s) to identify a possible cause of the failure. Click <a href='https://aka.ms/vscodeJupyterKernelCrash'>here</a> for more info. View Jupyter <a href='command:jupyter.viewOutput'>log</a> for further details."
     ]
    }
   ],
   "source": [
    "pygame.init()\n",
    "width = 640\n",
    "height = 480\n",
    "display = pygame.display.set_mode((width, height))\n",
    "pygame.display.set_caption('Snake')\n",
    "clock = pygame.time.Clock()\n",
    "font = pygame.font.Font('arial.ttf', 25)\n",
    "\n",
    "frame_rate = TRAIN_FRAME_RATE\n",
    "score = 0\n",
    "while True:\n",
    "    for event in pygame.event.get():\n",
    "        if event.type == pygame.QUIT:\n",
    "            pygame.quit()\n",
    "            quit()\n",
    "        if event.type == pygame.KEYDOWN:\n",
    "            if event.key == pygame.K_SPACE:\n",
    "                frame_rate = VISUALIZE_FRAME_RATE\n",
    "            if event.key == pygame.K_ESCAPE:\n",
    "                frame_rate = TRAIN_FRAME_RATE\n",
    "\n",
    "    display.fill(BLACK)\n",
    "    text = font.render(\"Score: \" + str(score), True, WHITE)\n",
    "    display.blit(text, [0, 0])\n",
    "    pygame.display.flip()\n",
    "    score+=1\n",
    "    clock.tick(frame_rate)"
   ]
  }
 ],
 "metadata": {
  "kernelspec": {
   "display_name": "rl_pygame",
   "language": "python",
   "name": "python3"
  },
  "language_info": {
   "codemirror_mode": {
    "name": "ipython",
    "version": 3
   },
   "file_extension": ".py",
   "mimetype": "text/x-python",
   "name": "python",
   "nbconvert_exporter": "python",
   "pygments_lexer": "ipython3",
   "version": "3.8.18"
  }
 },
 "nbformat": 4,
 "nbformat_minor": 2
}
