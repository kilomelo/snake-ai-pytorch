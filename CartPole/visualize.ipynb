{
 "cells": [
  {
   "cell_type": "code",
   "execution_count": 2,
   "metadata": {},
   "outputs": [
    {
     "name": "stdout",
     "output_type": "stream",
     "text": [
      "Moviepy - Building video d:\\Dev\\study\\snake-ai-pytorch\\CartPole\\rl-video-episode-0.mp4.\n",
      "Moviepy - Writing video d:\\Dev\\study\\snake-ai-pytorch\\CartPole\\rl-video-episode-0.mp4\n",
      "\n"
     ]
    },
    {
     "name": "stderr",
     "output_type": "stream",
     "text": [
      "                                                   \r"
     ]
    },
    {
     "name": "stdout",
     "output_type": "stream",
     "text": [
      "Moviepy - Done !\n",
      "Moviepy - video ready d:\\Dev\\study\\snake-ai-pytorch\\CartPole\\rl-video-episode-0.mp4\n",
      "Moviepy - Building video d:\\Dev\\study\\snake-ai-pytorch\\CartPole\\rl-video-episode-1.mp4.\n",
      "Moviepy - Writing video d:\\Dev\\study\\snake-ai-pytorch\\CartPole\\rl-video-episode-1.mp4\n",
      "\n"
     ]
    },
    {
     "name": "stderr",
     "output_type": "stream",
     "text": [
      "                                                             \r"
     ]
    },
    {
     "name": "stdout",
     "output_type": "stream",
     "text": [
      "Moviepy - Done !\n",
      "Moviepy - video ready d:\\Dev\\study\\snake-ai-pytorch\\CartPole\\rl-video-episode-1.mp4\n",
      "Moviepy - Building video d:\\Dev\\study\\snake-ai-pytorch\\CartPole\\rl-video-episode-8.mp4.\n",
      "Moviepy - Writing video d:\\Dev\\study\\snake-ai-pytorch\\CartPole\\rl-video-episode-8.mp4\n",
      "\n"
     ]
    },
    {
     "name": "stderr",
     "output_type": "stream",
     "text": [
      "                                                   \r"
     ]
    },
    {
     "name": "stdout",
     "output_type": "stream",
     "text": [
      "Moviepy - Done !\n",
      "Moviepy - video ready d:\\Dev\\study\\snake-ai-pytorch\\CartPole\\rl-video-episode-8.mp4\n",
      "Moviepy - Building video d:\\Dev\\study\\snake-ai-pytorch\\CartPole\\rl-video-episode-27.mp4.\n",
      "Moviepy - Writing video d:\\Dev\\study\\snake-ai-pytorch\\CartPole\\rl-video-episode-27.mp4\n",
      "\n"
     ]
    },
    {
     "name": "stderr",
     "output_type": "stream",
     "text": [
      "                                                   "
     ]
    },
    {
     "name": "stdout",
     "output_type": "stream",
     "text": [
      "Moviepy - Done !\n",
      "Moviepy - video ready d:\\Dev\\study\\snake-ai-pytorch\\CartPole\\rl-video-episode-27.mp4\n"
     ]
    },
    {
     "name": "stderr",
     "output_type": "stream",
     "text": [
      "\r"
     ]
    }
   ],
   "source": [
    "import gymnasium as gym\n",
    "import torch\n",
    "import torch.nn as nn\n",
    "import torch.optim as optim\n",
    "import torch.nn.functional as F\n",
    "from collections import namedtuple, deque\n",
    "from gymnasium.wrappers import RecordVideo\n",
    "\n",
    "env = RecordVideo(gym.make(\"CartPole-v1\", render_mode='rgb_array'), \"./\")\n",
    "o = env.reset()\n",
    "for _ in range(1000):\n",
    "    o, r, d, t, _ = env.step(env.action_space.sample())\n",
    "    if d:\n",
    "        o = env.reset()"
   ]
  }
 ],
 "metadata": {
  "kernelspec": {
   "display_name": "rl_gym",
   "language": "python",
   "name": "python3"
  },
  "language_info": {
   "codemirror_mode": {
    "name": "ipython",
    "version": 3
   },
   "file_extension": ".py",
   "mimetype": "text/x-python",
   "name": "python",
   "nbconvert_exporter": "python",
   "pygments_lexer": "ipython3",
   "version": "3.9.18"
  }
 },
 "nbformat": 4,
 "nbformat_minor": 2
}
