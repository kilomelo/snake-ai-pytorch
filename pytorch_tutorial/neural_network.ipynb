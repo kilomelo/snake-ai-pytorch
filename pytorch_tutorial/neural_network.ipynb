{
 "cells": [
  {
   "cell_type": "code",
   "execution_count": 1,
   "metadata": {},
   "outputs": [],
   "source": [
    "import os\n",
    "import torch\n",
    "from torch import nn\n",
    "from torch.utils.data import DataLoader\n",
    "from torchvision import datasets, transforms"
   ]
  },
  {
   "cell_type": "code",
   "execution_count": 3,
   "metadata": {},
   "outputs": [
    {
     "name": "stdout",
     "output_type": "stream",
     "text": [
      "Using mps device\n"
     ]
    }
   ],
   "source": [
    "device = (\n",
    "    \"cuda\"\n",
    "    if torch.cuda.is_available()\n",
    "    else \"mps\"\n",
    "    if torch.backends.mps.is_available()\n",
    "    else \"cpu\"\n",
    ")\n",
    "print(f\"Using {device} device\")"
   ]
  },
  {
   "cell_type": "code",
   "execution_count": 4,
   "metadata": {},
   "outputs": [],
   "source": [
    "class NeuralNetwork(nn.Module):\n",
    "    def __init__(self):\n",
    "        super().__init__()\n",
    "        self.flatten = nn.Flatten()\n",
    "        self.linear_relu_stack = nn.Sequential(\n",
    "            nn.Linear(28*28, 512),\n",
    "            nn.ReLU(),\n",
    "            nn.Linear(512, 512),\n",
    "            nn.ReLU(),\n",
    "            nn.Linear(512, 10),\n",
    "        )\n",
    "\n",
    "    def forward(self, x):\n",
    "        x = self.flatten(x)\n",
    "        logits = self.linear_relu_stack(x)\n",
    "        return logits"
   ]
  },
  {
   "cell_type": "code",
   "execution_count": 5,
   "metadata": {},
   "outputs": [
    {
     "name": "stdout",
     "output_type": "stream",
     "text": [
      "NeuralNetwork(\n",
      "  (flatten): Flatten(start_dim=1, end_dim=-1)\n",
      "  (linear_relu_stack): Sequential(\n",
      "    (0): Linear(in_features=784, out_features=512, bias=True)\n",
      "    (1): ReLU()\n",
      "    (2): Linear(in_features=512, out_features=512, bias=True)\n",
      "    (3): ReLU()\n",
      "    (4): Linear(in_features=512, out_features=10, bias=True)\n",
      "  )\n",
      ")\n"
     ]
    }
   ],
   "source": [
    "model = NeuralNetwork().to(device)\n",
    "print(model)"
   ]
  },
  {
   "cell_type": "code",
   "execution_count": 7,
   "metadata": {},
   "outputs": [
    {
     "name": "stdout",
     "output_type": "stream",
     "text": [
      "tensor([[ 0.0784, -0.0592,  0.0096, -0.0183, -0.0862,  0.0338, -0.0796, -0.0003,\n",
      "          0.0844,  0.0394]], device='mps:0', grad_fn=<LinearBackward0>)\n",
      "tensor([[0.1080, 0.0941, 0.1008, 0.0980, 0.0916, 0.1032, 0.0922, 0.0998, 0.1086,\n",
      "         0.1038]], device='mps:0', grad_fn=<SoftmaxBackward0>)\n",
      "Predicted class: tensor([8], device='mps:0')\n"
     ]
    }
   ],
   "source": [
    "X = torch.rand(1, 28, 28, device=device)\n",
    "logits = model(X)\n",
    "pred_probab = nn.Softmax(dim=1)(logits)\n",
    "y_pred = pred_probab.argmax(1)\n",
    "print(logits)\n",
    "print(pred_probab)\n",
    "print(f\"Predicted class: {y_pred}\")"
   ]
  },
  {
   "cell_type": "code",
   "execution_count": 8,
   "metadata": {},
   "outputs": [
    {
     "name": "stdout",
     "output_type": "stream",
     "text": [
      "torch.Size([3, 28, 28])\n"
     ]
    }
   ],
   "source": [
    "input_image = torch.rand(3,28,28)\n",
    "print(input_image.size())"
   ]
  },
  {
   "cell_type": "code",
   "execution_count": 9,
   "metadata": {},
   "outputs": [
    {
     "name": "stdout",
     "output_type": "stream",
     "text": [
      "torch.Size([3, 784])\n"
     ]
    }
   ],
   "source": [
    "flatten = nn.Flatten()\n",
    "flat_image = flatten(input_image)\n",
    "print(flat_image.size())"
   ]
  },
  {
   "cell_type": "code",
   "execution_count": 10,
   "metadata": {},
   "outputs": [
    {
     "name": "stdout",
     "output_type": "stream",
     "text": [
      "torch.Size([3, 20])\n"
     ]
    }
   ],
   "source": [
    "layer1 = nn.Linear(in_features=28*28, out_features=20)\n",
    "hidden1 = layer1(flat_image)\n",
    "print(hidden1.size())"
   ]
  },
  {
   "cell_type": "code",
   "execution_count": 11,
   "metadata": {},
   "outputs": [
    {
     "name": "stdout",
     "output_type": "stream",
     "text": [
      "Before ReLU: tensor([[-3.4447e-01, -1.9040e-01,  2.5145e-01, -2.5380e-01, -2.6076e-01,\n",
      "          7.8926e-02, -2.6717e-01, -7.8339e-02,  1.3778e-01, -3.3173e-02,\n",
      "          1.7741e-01,  5.5225e-01, -2.8982e-01,  2.5154e-01, -2.4098e-01,\n",
      "          1.0295e-01, -5.7112e-01,  2.1872e-01,  1.7547e-01,  8.8740e-02],\n",
      "        [-4.9672e-01, -4.3867e-01,  1.0006e-01, -2.1002e-03, -1.2588e-02,\n",
      "         -2.3247e-02,  3.8193e-01, -1.0393e-04, -1.4847e-01, -9.7228e-03,\n",
      "          8.6856e-02,  4.7727e-01, -6.2506e-01,  8.4611e-01, -1.9049e-01,\n",
      "          1.2893e-01, -5.4740e-01, -3.9789e-02,  3.2615e-01,  1.2303e-01],\n",
      "        [-3.7310e-01, -1.7993e-01,  3.2138e-01, -1.5118e-01, -2.5265e-01,\n",
      "          4.6497e-02,  2.3845e-03,  1.9014e-02, -4.6973e-02, -7.7128e-01,\n",
      "          5.0340e-01,  2.5934e-01, -3.0955e-01,  5.0811e-01,  2.4145e-01,\n",
      "         -7.7470e-03, -5.0956e-01,  1.0559e-01,  1.5849e-01,  8.4454e-02]],\n",
      "       grad_fn=<AddmmBackward0>)\n",
      "\n",
      "\n",
      "After ReLU: tensor([[0.0000, 0.0000, 0.2515, 0.0000, 0.0000, 0.0789, 0.0000, 0.0000, 0.1378,\n",
      "         0.0000, 0.1774, 0.5523, 0.0000, 0.2515, 0.0000, 0.1029, 0.0000, 0.2187,\n",
      "         0.1755, 0.0887],\n",
      "        [0.0000, 0.0000, 0.1001, 0.0000, 0.0000, 0.0000, 0.3819, 0.0000, 0.0000,\n",
      "         0.0000, 0.0869, 0.4773, 0.0000, 0.8461, 0.0000, 0.1289, 0.0000, 0.0000,\n",
      "         0.3261, 0.1230],\n",
      "        [0.0000, 0.0000, 0.3214, 0.0000, 0.0000, 0.0465, 0.0024, 0.0190, 0.0000,\n",
      "         0.0000, 0.5034, 0.2593, 0.0000, 0.5081, 0.2415, 0.0000, 0.0000, 0.1056,\n",
      "         0.1585, 0.0845]], grad_fn=<ReluBackward0>)\n"
     ]
    }
   ],
   "source": [
    "print(f\"Before ReLU: {hidden1}\\n\\n\")\n",
    "hidden1 = nn.ReLU()(hidden1)\n",
    "print(f\"After ReLU: {hidden1}\")"
   ]
  },
  {
   "cell_type": "code",
   "execution_count": 12,
   "metadata": {},
   "outputs": [],
   "source": [
    "seq_modules = nn.Sequential(\n",
    "    flatten,\n",
    "    layer1,\n",
    "    nn.ReLU(),\n",
    "    nn.Linear(20, 10)\n",
    ")\n",
    "input_image = torch.rand(3,28,28)\n",
    "logits = seq_modules(input_image)"
   ]
  },
  {
   "cell_type": "code",
   "execution_count": 13,
   "metadata": {},
   "outputs": [],
   "source": [
    "softmax = nn.Softmax(dim=1)\n",
    "pred_probab = softmax(logits)"
   ]
  },
  {
   "cell_type": "code",
   "execution_count": 14,
   "metadata": {},
   "outputs": [
    {
     "name": "stdout",
     "output_type": "stream",
     "text": [
      "Model structure: NeuralNetwork(\n",
      "  (flatten): Flatten(start_dim=1, end_dim=-1)\n",
      "  (linear_relu_stack): Sequential(\n",
      "    (0): Linear(in_features=784, out_features=512, bias=True)\n",
      "    (1): ReLU()\n",
      "    (2): Linear(in_features=512, out_features=512, bias=True)\n",
      "    (3): ReLU()\n",
      "    (4): Linear(in_features=512, out_features=10, bias=True)\n",
      "  )\n",
      ")\n",
      "\n",
      "\n",
      "Layer: linear_relu_stack.0.weight | Size: torch.Size([512, 784]) | Values : tensor([[ 0.0082, -0.0180, -0.0228,  ...,  0.0080,  0.0237, -0.0262],\n",
      "        [-0.0138, -0.0302,  0.0182,  ...,  0.0287, -0.0043,  0.0093]],\n",
      "       device='mps:0', grad_fn=<SliceBackward0>) \n",
      "\n",
      "Layer: linear_relu_stack.0.bias | Size: torch.Size([512]) | Values : tensor([-0.0127,  0.0038], device='mps:0', grad_fn=<SliceBackward0>) \n",
      "\n",
      "Layer: linear_relu_stack.2.weight | Size: torch.Size([512, 512]) | Values : tensor([[-0.0097,  0.0138,  0.0283,  ...,  0.0082,  0.0135,  0.0435],\n",
      "        [ 0.0277,  0.0229,  0.0222,  ...,  0.0249,  0.0395, -0.0257]],\n",
      "       device='mps:0', grad_fn=<SliceBackward0>) \n",
      "\n",
      "Layer: linear_relu_stack.2.bias | Size: torch.Size([512]) | Values : tensor([0.0009, 0.0024], device='mps:0', grad_fn=<SliceBackward0>) \n",
      "\n",
      "Layer: linear_relu_stack.4.weight | Size: torch.Size([10, 512]) | Values : tensor([[-0.0268, -0.0337, -0.0183,  ..., -0.0283,  0.0413, -0.0069],\n",
      "        [-0.0376,  0.0169, -0.0211,  ..., -0.0392, -0.0138,  0.0397]],\n",
      "       device='mps:0', grad_fn=<SliceBackward0>) \n",
      "\n",
      "Layer: linear_relu_stack.4.bias | Size: torch.Size([10]) | Values : tensor([0.0190, 0.0202], device='mps:0', grad_fn=<SliceBackward0>) \n",
      "\n"
     ]
    }
   ],
   "source": [
    "print(f\"Model structure: {model}\\n\\n\")\n",
    "\n",
    "for name, param in model.named_parameters():\n",
    "    print(f\"Layer: {name} | Size: {param.size()} | Values : {param[:2]} \\n\")"
   ]
  }
 ],
 "metadata": {
  "kernelspec": {
   "display_name": "torch_tutorial",
   "language": "python",
   "name": "python3"
  },
  "language_info": {
   "codemirror_mode": {
    "name": "ipython",
    "version": 3
   },
   "file_extension": ".py",
   "mimetype": "text/x-python",
   "name": "python",
   "nbconvert_exporter": "python",
   "pygments_lexer": "ipython3",
   "version": "3.10.13"
  }
 },
 "nbformat": 4,
 "nbformat_minor": 2
}
